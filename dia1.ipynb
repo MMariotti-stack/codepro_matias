{
 "cells": [
  {
   "cell_type": "markdown",
   "id": "e72297fc",
   "metadata": {},
   "source": []
  },
  {
   "cell_type": "code",
   "execution_count": 3,
   "id": "fb331721",
   "metadata": {},
   "outputs": [
    {
     "name": "stdout",
     "output_type": "stream",
     "text": [
      "Hello world\n"
     ]
    }
   ],
   "source": [
    "print(\"Hello world\")"
   ]
  },
  {
   "cell_type": "code",
   "execution_count": 5,
   "id": "737302de",
   "metadata": {},
   "outputs": [
    {
     "name": "stdout",
     "output_type": "stream",
     "text": [
      "Matias Mariotti\n"
     ]
    }
   ],
   "source": [
    "name_lastname = \"Matias Mariotti\"\n",
    "print(name_lastname)"
   ]
  },
  {
   "cell_type": "code",
   "execution_count": null,
   "id": "6da47cf8",
   "metadata": {},
   "outputs": [],
   "source": [
    "#esto es una variable\n",
    "fruta = \"naranja\"\n",
    "\n",
    "cantidad_de_fruta = 4\n",
    "print(cantidad_de_fruta)\n",
    "\n",
    "fruta = \"banana\"\n",
    "print(fruta)"
   ]
  },
  {
   "cell_type": "code",
   "execution_count": 10,
   "id": "ee85d95b",
   "metadata": {},
   "outputs": [
    {
     "name": "stdout",
     "output_type": "stream",
     "text": [
      "20\n",
      "1.75\n",
      "20 Matias\n"
     ]
    }
   ],
   "source": [
    "#int\n",
    "age = 20\n",
    "\n",
    "#float\n",
    "height = 1.75\n",
    "\n",
    "#str\n",
    "name = \"Matias\"\n",
    "\n",
    "#bool\n",
    "happy = True\n",
    "\n",
    "print(age)\n",
    "print(height)\n",
    "print(age, name)"
   ]
  },
  {
   "cell_type": "code",
   "execution_count": null,
   "id": "c5cbf3d2",
   "metadata": {},
   "outputs": [
    {
     "name": "stdout",
     "output_type": "stream",
     "text": [
      "My name is Matias, I am 29 years old and i'm from Asuncion\n"
     ]
    }
   ],
   "source": [
    "# Challenge 1\n",
    "#Debo crear tres variables, una con el nombre, edad y ciudad, luego imprime en una linea haciendo print.\n",
    "name = 'Matias'\n",
    "age = 29\n",
    "city = 'Asuncion'\n",
    "\n",
    "print(f\"My name is {name}, I'm {age} years old and i'm from {city}\")"
   ]
  },
  {
   "cell_type": "code",
   "execution_count": 14,
   "id": "90a6d905",
   "metadata": {},
   "outputs": [
    {
     "name": "stdout",
     "output_type": "stream",
     "text": [
      "1\n"
     ]
    }
   ],
   "source": [
    "print(10 % 3)"
   ]
  },
  {
   "cell_type": "code",
   "execution_count": 28,
   "id": "9a9b1844",
   "metadata": {},
   "outputs": [
    {
     "name": "stdout",
     "output_type": "stream",
     "text": [
      "El costo total es 20000 Guaranies\n",
      "Mi vuelto es 30000 Guaranies\n"
     ]
    }
   ],
   "source": [
    "product1 = 'potato'\n",
    "cost_product1 = 12000\n",
    "product2 = 'coca cola'\n",
    "cost_product2 = 8000\n",
    "wallet = 50000\n",
    "\n",
    "total_cost = cost_product1 + cost_product2\n",
    "print('El costo total es', cost_product1 + cost_product2, 'Guaranies')\n",
    "\n",
    "vuelto = wallet - total_cost\n",
    "\n",
    "print('Mi vuelto es', vuelto, 'Guaranies')"
   ]
  },
  {
   "cell_type": "code",
   "execution_count": 24,
   "id": "5bed7f16",
   "metadata": {},
   "outputs": [
    {
     "name": "stdout",
     "output_type": "stream",
     "text": [
      "En total hay 15 frutas\n",
      "Sobran 5 frutas luego de restar lo vendido\n"
     ]
    }
   ],
   "source": [
    "#Challenge 2\n",
    "# Suma: asigna dos numeros en dos variables diferentes: cantidad_de_manzanas y cantidad_de_naranjas. Luego sumar ambas variables en cantidad_de_frutas. Imprimir la ultima variable.\n",
    "\n",
    "cantidad_de_manzanas = 10\n",
    "cantidad_de_naranjas = 5\n",
    "cantidad_de_frutas = cantidad_de_manzanas + cantidad_de_naranjas\n",
    "print('En total hay', cantidad_de_frutas, 'frutas')\n",
    "\n",
    "#Resta: asignar un valor numerico a la variable frutas_vendidas. Luego, asignar la resta entre cantidad_de_frutas y frutas_vendidas a la variable frutas_restantes. Imprimir la ultima variable\n",
    "\n",
    "frutas_vendidas = 10\n",
    "frutas_restantes = cantidad_de_frutas - frutas_vendidas\n",
    "print('Sobran', frutas_restantes, 'frutas luego de restar lo vendido')"
   ]
  },
  {
   "cell_type": "code",
   "execution_count": 38,
   "id": "1c841aee",
   "metadata": {},
   "outputs": [
    {
     "name": "stdout",
     "output_type": "stream",
     "text": [
      "Matias Mariotti\n",
      "Mi nombre es Matias y mi apellido es Mariotti\n",
      "Mi nombre es Matias y mi apellido es Mariotti\n"
     ]
    }
   ],
   "source": [
    "#Concatenacion\n",
    "name = 'Matias'\n",
    "last_name = 'Mariotti'\n",
    "print(name + \" \" + last_name)\n",
    "\n",
    "print('Mi nombre es' + ' ' + name + ' ' +'y mi apellido es' + ' ' + last_name)\n",
    "\n",
    "#fstring\n",
    "print(f'Mi nombre es {name} y mi apellido es {last_name}')"
   ]
  },
  {
   "cell_type": "code",
   "execution_count": null,
   "id": "abceee45",
   "metadata": {},
   "outputs": [
    {
     "name": "stdout",
     "output_type": "stream",
     "text": [
      "Hola. Me llamo Ivan Sosa. Mucho gusto.\n"
     ]
    }
   ],
   "source": [
    "#Challenge 3\n",
    "# Asignar el nombre y el apellido de tu companhero a las variables nombre y apellido. Luego, imprimir una frase, utilizando las variables. EJEMPLO: 'Hola, me llamo Claudia Melgajero. Mucho gusto'\n",
    "\n",
    "nombre = \"Ivan\"\n",
    "apellido = \"Sosa\"\n",
    "\n",
    "print(f\"Hola. Me llamo {nombre} {apellido}. Mucho gusto.\")"
   ]
  },
  {
   "cell_type": "code",
   "execution_count": 47,
   "id": "74ccde1e",
   "metadata": {},
   "outputs": [
    {
     "name": "stdout",
     "output_type": "stream",
     "text": [
      "Matias\n",
      "31\n"
     ]
    }
   ],
   "source": [
    "#input\n",
    "nombre = input('Ingrese su nombre')\n",
    "print(nombre)\n",
    "\n",
    "anho = int(input('Cuantos anhos tenes'))\n",
    "anho2 = int(input('Anho 2'))\n",
    "print(anho + anho2)"
   ]
  },
  {
   "cell_type": "code",
   "execution_count": 53,
   "id": "4f8f68b2",
   "metadata": {},
   "outputs": [
    {
     "name": "stdout",
     "output_type": "stream",
     "text": [
      "La suma de los dos numeros es 65\n"
     ]
    }
   ],
   "source": [
    "#Challenge 4\n",
    "#Solicitar al usuario ingresar dos numeros y almacenarlos en dos variables. Luego, imprimir la suma de los dos numeros.\n",
    "\n",
    "num1 = int(input('Complete el primer numero.'))\n",
    "num2 = int(input('Complete el segundo numero.'))\n",
    "\n",
    "print(f'La suma de los dos numeros es {num1 + num2}')"
   ]
  },
  {
   "cell_type": "code",
   "execution_count": 62,
   "id": "c3df7a65",
   "metadata": {},
   "outputs": [
    {
     "name": "stdout",
     "output_type": "stream",
     "text": [
      "Hola, soy matias y tengo 29 anhos\n"
     ]
    }
   ],
   "source": [
    "def saludo():\n",
    "    nombre = input('Ingrese su nombre')\n",
    "    edad = input('Ingrese su edad')\n",
    "    print(f'Hola, soy {nombre} y tengo {edad} anhos')\n",
    "\n",
    "saludo()"
   ]
  },
  {
   "cell_type": "code",
   "execution_count": null,
   "id": "14595712",
   "metadata": {},
   "outputs": [
    {
     "name": "stdout",
     "output_type": "stream",
     "text": [
      "Hola matias\n",
      "Tienes 29 anhos\n",
      "asuncion es muy linda\n",
      "Hola jorge\n",
      "Tienes 49 anhos\n",
      "aregua es muy linda\n",
      "Hola luis\n",
      "Tienes 28 anhos\n",
      "lambare es muy linda\n"
     ]
    }
   ],
   "source": [
    "#Challenge 5\n",
    "#Crear una funcion de un proceso que se les ocurra que tenga varios pasos, ejecutar la funcion 3 veces.\n",
    "\n",
    "def datos():\n",
    "    name = input('Cual es tu nombre?')\n",
    "    print(f\"Hola {name}\")\n",
    "    edad = input('Cual es tu edad?')\n",
    "    print(f\"Tienes {edad} anhos\")\n",
    "    ciudad = input('De que ciudad sos?')\n",
    "    print(f'{ciudad} es genial')\n",
    "datos()\n",
    "datos()\n",
    "datos()"
   ]
  },
  {
   "cell_type": "code",
   "execution_count": 7,
   "id": "915b9a69",
   "metadata": {},
   "outputs": [
    {
     "name": "stdout",
     "output_type": "stream",
     "text": [
      "Hola soy Matias y tengo 29 anhos\n"
     ]
    }
   ],
   "source": [
    "def saludo(nombre, edad):\n",
    "    print(f'Hola soy {nombre} y tengo {edad} anhos')\n",
    "\n",
    "saludo(\"Matias\", 29)"
   ]
  },
  {
   "cell_type": "code",
   "execution_count": 19,
   "id": "4dd468f6",
   "metadata": {},
   "outputs": [
    {
     "name": "stdout",
     "output_type": "stream",
     "text": [
      "El cliente desea un Bmw X6, Color Negro, Anho 2025\n"
     ]
    }
   ],
   "source": [
    "#Challenge 6\n",
    "# Escribir una funcion que nos pregunte las caracteristicas de un elemento a comprar e imprima el elemento con sus caracteristicas\n",
    "\n",
    "def auto(marca, modelo, color, anho):\n",
    "    print(f\"El cliente desea un {marca_auto} {modelo_auto}, Color {color_auto}, Anho {anho_auto}\")\n",
    "\n",
    "marca_auto = input('Que marca de auto te gustaria?').capitalize()\n",
    "modelo_auto = input('Que modelo de auto te gustaria?'). capitalize()\n",
    "color_auto = input('De que color te gustaria que fuese?').capitalize()\n",
    "anho_auto = input('De que anho te gustaria que fuese el modelo?')\n",
    "\n",
    "auto(marca_auto, modelo_auto, color_auto, anho_auto)"
   ]
  }
 ],
 "metadata": {
  "kernelspec": {
   "display_name": ".venv",
   "language": "python",
   "name": "python3"
  },
  "language_info": {
   "codemirror_mode": {
    "name": "ipython",
    "version": 3
   },
   "file_extension": ".py",
   "mimetype": "text/x-python",
   "name": "python",
   "nbconvert_exporter": "python",
   "pygments_lexer": "ipython3",
   "version": "3.12.3"
  }
 },
 "nbformat": 4,
 "nbformat_minor": 5
}
