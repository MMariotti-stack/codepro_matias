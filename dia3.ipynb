{
 "cells": [
  {
   "cell_type": "code",
   "execution_count": null,
   "id": "ab1b57ee",
   "metadata": {},
   "outputs": [
    {
     "name": "stdout",
     "output_type": "stream",
     "text": [
      "Alo\n"
     ]
    }
   ],
   "source": [
    "#Challenge\n",
    "def pal():\n",
    "    palabra = input('Ingrese una palabra')\n",
    "    print(f'{palabra}')\n",
    "\n",
    "pal()"
   ]
  },
  {
   "cell_type": "code",
   "execution_count": null,
   "id": "b17c4597",
   "metadata": {},
   "outputs": [
    {
     "name": "stdout",
     "output_type": "stream",
     "text": [
      "Las letras son iguales\n"
     ]
    }
   ],
   "source": [
    "#Challenge\n",
    "letrauno = input('Cual es la primera letra')\n",
    "letrados = input('Cual es la segunda letra')\n",
    "\n",
    "def comparar(letra1, letra2):\n",
    "    if letra1 == letra2:\n",
    "        print('Las letras son iguales')\n",
    "    else:\n",
    "        print('Las letras son diferentes')\n",
    "\n",
    "comparar(letrauno, letrados)"
   ]
  },
  {
   "cell_type": "code",
   "execution_count": null,
   "id": "07f223d8",
   "metadata": {},
   "outputs": [
    {
     "data": {
      "text/plain": [
       "False"
      ]
     },
     "execution_count": 29,
     "metadata": {},
     "output_type": "execute_result"
    }
   ],
   "source": [
    "#Challenge 3 🤺 - 20m\n",
    "#Crear una función que reciba dos parámetros (una palabra y un número), y que retorne True si el número es igual a la cantidad de letras de la palabra. En caso contrario, que retorne False.\n",
    "#Pista: cantidad de letras de una palabra en python\n",
    "\n",
    "def palabra_numero(palabra1_a_comparar, numero_a_comparar):\n",
    "    if len(palabra1_a_comparar) == numero_a_comparar:\n",
    "        return True\n",
    "    else:\n",
    "        return False\n",
    "\n",
    "palabra_numero('hola', 8)"
   ]
  },
  {
   "cell_type": "markdown",
   "id": "1f810b9e",
   "metadata": {},
   "source": [
    "Challenge 5 🤺 - 25m\n",
    "Pedir al usuario que ingrese 1 palabra, luego convertir esa palabra a una lista con sus caracteres con list(). Agregar esa lista de caracteres a una lista llamada palabras_ingresadas. Repetir el proceso 3 veces. Cada vez que se agregue una lista de caracteres, imprimir la lista palabras_ingresadas.\n",
    "\n",
    "\n",
    "Ejemplo del resultado esperado:\n",
    "\n",
    "[['c', 'i', 'e', 'l', 'o']]\n",
    "\n",
    " # Al ingresar la primera palabra\n",
    "\n",
    "[['c', 'i', 'e', 'l', 'o'], ['c', 'a', 'l', 'o', 'r']]\n",
    "\n",
    " # Al ingresar la segunda palabra\n",
    "\n",
    "[['c', 'i', 'e', 'l', 'o'], ['c', 'a', 'l', 'o', 'r'], ['n', 'u', 'b', 'e', 's']]"
   ]
  },
  {
   "cell_type": "code",
   "execution_count": 48,
   "id": "63a8e436",
   "metadata": {},
   "outputs": [
    {
     "name": "stdout",
     "output_type": "stream",
     "text": [
      "[['h', 'o', 'l', 'a']]\n",
      "[['h', 'o', 'l', 'a'], ['h', 'o', 'l', 'a']]\n",
      "[['h', 'o', 'l', 'a'], ['h', 'o', 'l', 'a'], ['h', 'o', 'l', 'a']]\n"
     ]
    }
   ],
   "source": [
    "palabras_ingresadas = []\n",
    "\n",
    "for palabras in range (3):\n",
    "\n",
    "    palabra_a_ingresar = input('Escriba una palabra')\n",
    "\n",
    "    lista_de_palabras = list(palabra_a_ingresar)\n",
    "\n",
    "    palabras_ingresadas.append(lista_de_palabras)\n",
    "\n",
    "    print(palabras_ingresadas)\n",
    "\n",
    "\n"
   ]
  },
  {
   "cell_type": "markdown",
   "id": "936a0825",
   "metadata": {},
   "source": [
    "Challenge 6 🤺 - 25m\n",
    "Dada la lista de ejemplo: \n",
    "\n",
    "lista = [['h', 'o', 'l', 'i', 's'], ['h', 'e', 'l', 'l', 'o'], ['h', 'a', 'l', 'l', 'o']]\n",
    "\n",
    "Crear una función que imprima una grilla (lista de listas), una línea por cada lista dentro de la lista principal.\n",
    "\n",
    "Ejemplo del resultado esperado:\n",
    "\n",
    "\n",
    "['h', 'o', 'l', 'i', 's']\n",
    "['h', 'e', 'l', 'l', 'o']\n",
    "['h', 'a', 'l', 'l', 'o']"
   ]
  },
  {
   "cell_type": "code",
   "execution_count": null,
   "id": "492fe220",
   "metadata": {},
   "outputs": [
    {
     "name": "stdout",
     "output_type": "stream",
     "text": [
      "['h', 'o', 'l', 'i', 's']\n",
      "['h', 'e', 'l', 'l', 'o']\n",
      "['h', 'a', 'l', 'l', 'o']\n"
     ]
    }
   ],
   "source": [
    "#crear funcion\n",
    "# agregar la lista del ejemplo\n",
    "# imprimir los elementos de esa lista uno abajo del otro\n",
    "\n",
    "lista = [['h', 'o', 'l', 'i', 's'], ['h', 'e', 'l', 'l', 'o'], ['h', 'a', 'l', 'l', 'o']]\n",
    "\n",
    "def lista_de_listas():\n",
    "    for i in lista:\n",
    "        print(i)\n",
    "\n",
    "lista_de_listas()\n"
   ]
  }
 ],
 "metadata": {
  "kernelspec": {
   "display_name": ".venv",
   "language": "python",
   "name": "python3"
  },
  "language_info": {
   "codemirror_mode": {
    "name": "ipython",
    "version": 3
   },
   "file_extension": ".py",
   "mimetype": "text/x-python",
   "name": "python",
   "nbconvert_exporter": "python",
   "pygments_lexer": "ipython3",
   "version": "3.12.3"
  }
 },
 "nbformat": 4,
 "nbformat_minor": 5
}
