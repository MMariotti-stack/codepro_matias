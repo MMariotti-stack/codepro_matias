{
 "cells": [
  {
   "cell_type": "code",
   "execution_count": null,
   "id": "766b864e",
   "metadata": {},
   "outputs": [
    {
     "name": "stdout",
     "output_type": "stream",
     "text": [
      "Verificar los datos\n",
      "Ya le traemos su toyota ist gris con chapa bkg201\n",
      "Cobrar el servicio\n",
      "Entregar el vehiculo\n"
     ]
    }
   ],
   "source": [
    "### Repaso\n",
    "def buscar_auto(marca, modelo, color, chapa):\n",
    "    print('Verificar los datos')\n",
    "    print(f'Ya le traemos su {marca_vehiculo} {modelo_vehiculo} {color_vehiculo} con chapa {chapa_vehiculo}')\n",
    "    print('Cobrar el servicio')\n",
    "    print('Entregar el vehiculo')\n",
    "\n",
    "marca_vehiculo= input('Cual es la marca de su vehiculo?')\n",
    "modelo_vehiculo = input('Que modelo seria?')\n",
    "color_vehiculo = input('De que color?')\n",
    "chapa_vehiculo = input('Cual es su chapa?')\n",
    "\n",
    "buscar_auto(marca_vehiculo, modelo_vehiculo, color_vehiculo, chapa_vehiculo)\n",
    "    "
   ]
  },
  {
   "cell_type": "code",
   "execution_count": null,
   "id": "b434857f",
   "metadata": {},
   "outputs": [
    {
     "name": "stdout",
     "output_type": "stream",
     "text": [
      "Hace lo que quieras\n"
     ]
    }
   ],
   "source": [
    "## Challenge\n",
    "#Escribe un programa que pregunte al usuario por su edad y determine si tiene edad suficiente para comprar y consumir alcohol\n",
    "#Si el usuario tiene mas de 18 pero menos de 21 imprimir 'Podes tomar pero no comprar'\n",
    "#Si el usuario tiene menos de 18 imprimir 'Juguito nomas'\n",
    "#Si el usuario tiene mas de 21 imprimir 'Hace lo que quieras'\n",
    "\n",
    "edad_del_usuario = int(input('Cual es tu edad?'))\n",
    "\n",
    "if edad_del_usuario < 18:\n",
    "    print('Juguito nomas')\n",
    "\n",
    "elif edad_del_usuario < 21:\n",
    "    print('Podes tomar pero no comprar')\n",
    "\n",
    "else:\n",
    "    print('Hace lo que quieras')"
   ]
  },
  {
   "cell_type": "code",
   "execution_count": 12,
   "id": "519a5319",
   "metadata": {},
   "outputs": [
    {
     "name": "stdout",
     "output_type": "stream",
     "text": [
      "La temperatura es de 46°C\n",
      "Nhamano mba'e\n"
     ]
    }
   ],
   "source": [
    "#Challenge\n",
    "#Escribir un programa en el que se pregunte al usuario una temperatura (en grados Celsius), imprima la temperatura escrita, y luego clasificar la temperatura ingresada en los siguientes niveles:\n",
    "# Entre -10 y 18 grados, que imprima 'Fresquete'\n",
    "# Entre 19 y 30 grados, que imprima \"Calor'i\"\n",
    "# Entre 31 y 45 grados, que imprima 'Hakuuuuuu'\n",
    "# Para todo lo demas, imprimir 'Nhamano mba'e'\n",
    "\n",
    "temperatura = int(input('Cual es la temperatura?'))\n",
    "\n",
    "print(f'La temperatura es de {temperatura}°C')\n",
    "\n",
    "if temperatura >= -10 and temperatura <= 18:\n",
    "    print('Fresquete')\n",
    "\n",
    "elif temperatura >= 19 and temperatura <= 30:\n",
    "    print(\"Calor'i\")\n",
    "\n",
    "elif temperatura >= 31 and temperatura <= 45:\n",
    "    print('Hakuuuuuu')\n",
    "else:\n",
    "    print(\"Nhamano mba'e\")\n"
   ]
  },
  {
   "cell_type": "code",
   "execution_count": 27,
   "id": "ffeb44e1",
   "metadata": {},
   "outputs": [
    {
     "name": "stdout",
     "output_type": "stream",
     "text": [
      "Contrasenha incorrecta\n",
      "Adivinaste la contrasenha\n"
     ]
    }
   ],
   "source": [
    "#Challenge\n",
    "#Escribir un programa que almacene una contraseña en una variable, y pregunte al usuario por la contraseña hasta que introduzca la contraseña correcta.\n",
    "#Cuando el usuario ingrese la contrasena correcta, imprimir un mensaje secreto.\n",
    "\n",
    "password = int()\n",
    "while password != 123:\n",
    "    password = int(input('Escribe una contrasenha'))\n",
    "    if password == 123:\n",
    "        print('Adivinaste la contrasenha')\n",
    "    else:\n",
    "        print('Contrasenha incorrecta')"
   ]
  },
  {
   "cell_type": "code",
   "execution_count": null,
   "id": "9d7a56f7",
   "metadata": {},
   "outputs": [
    {
     "name": "stdout",
     "output_type": "stream",
     "text": [
      "['Matias', 'Carlos', 'Liz', 'Rafael', 'Luis']\n"
     ]
    }
   ],
   "source": [
    "#Challenge\n",
    "# Crear una lista de 5 elementos. Luego, seguir los siguientes pasos.\n",
    "#   Agregar un elemento al final de la lista.\n",
    "#   Modificar el segundo elemento.\n",
    "#   Eliminar el tercer elemento.\n",
    "\n",
    "nombres = ['Matias', 'Ana', 'Belen', 'Liz', 'Rafael']\n",
    "\n",
    "nombres.append('Luis')\n",
    "\n",
    "nombres[1] = 'Carlos'\n",
    "\n",
    "nombres.pop(2)\n",
    "\n",
    "print(nombres)\n",
    "\n"
   ]
  },
  {
   "cell_type": "code",
   "execution_count": 44,
   "id": "7d12e25c",
   "metadata": {},
   "outputs": [
    {
     "name": "stdout",
     "output_type": "stream",
     "text": [
      "0\n",
      "2\n",
      "4\n",
      "6\n",
      "8\n",
      "10\n",
      "12\n",
      "14\n",
      "16\n",
      "18\n"
     ]
    }
   ],
   "source": [
    "#Escribir un programa que itere en un rango de 10 veces. Por cada iteracion multiplicar el iterador por dos e imprimir el resultado.\n",
    "for i in range(10):\n",
    "    print(i*2)\n",
    "    "
   ]
  },
  {
   "cell_type": "code",
   "execution_count": 57,
   "id": "b43fcb09",
   "metadata": {},
   "outputs": [
    {
     "name": "stdout",
     "output_type": "stream",
     "text": [
      "adidas\n",
      "diadora\n"
     ]
    }
   ],
   "source": [
    "#Recorrer los elementos de una lista de marcas e imprimir cada marca solamente si tiene 6 letras o mas\n",
    "\n",
    "marcas = ['nike', 'adidas', 'diadora']\n",
    "\n",
    "for items in marcas:\n",
    "    if len(items) >= 6:\n",
    "        print(items)"
   ]
  },
  {
   "cell_type": "code",
   "execution_count": 71,
   "id": "ae453889",
   "metadata": {},
   "outputs": [
    {
     "name": "stdout",
     "output_type": "stream",
     "text": [
      "Hay una o\n",
      "Hay una o\n"
     ]
    }
   ],
   "source": [
    "#Challenge\n",
    "#Solicitar al usuario que ingrese una frase\n",
    "frase = input('Agrega una frase')\n",
    "#Imprimir un mensaje cada vez que se encuentre una letra \"o\"\n",
    "for letra in frase:\n",
    "    if letra == 'o':\n",
    "        print('Hay una o')\n"
   ]
  }
 ],
 "metadata": {
  "kernelspec": {
   "display_name": ".venv",
   "language": "python",
   "name": "python3"
  },
  "language_info": {
   "codemirror_mode": {
    "name": "ipython",
    "version": 3
   },
   "file_extension": ".py",
   "mimetype": "text/x-python",
   "name": "python",
   "nbconvert_exporter": "python",
   "pygments_lexer": "ipython3",
   "version": "3.12.3"
  }
 },
 "nbformat": 4,
 "nbformat_minor": 5
}
