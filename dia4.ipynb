{
 "cells": [
  {
   "cell_type": "code",
   "execution_count": null,
   "id": "79208a66",
   "metadata": {},
   "outputs": [
    {
     "name": "stdout",
     "output_type": "stream",
     "text": [
      "Labrador\n",
      "Blanco\n"
     ]
    }
   ],
   "source": [
    "class Perro:\n",
    "    #Atributos de clase\n",
    "    cabeza = 1\n",
    "    patas = 4\n",
    "    \n",
    "    #Atributo de instancia\n",
    "    def __init__(self, raza, color):\n",
    "        self.raza = raza\n",
    "        self.color = color\n",
    "\n",
    "firu = Perro('Labrador', 'Marron')\n",
    "luna = Perro('Caniche', 'Blanco')\n",
    "\n",
    "print(firu.raza)\n",
    "print(luna.color)"
   ]
  },
  {
   "cell_type": "markdown",
   "id": "e50452f0",
   "metadata": {},
   "source": [
    "Challenge 🤺 - 15 m\n",
    "Crear una clase animales que tenga atributo de clase y de instancia.\n",
    "\n",
    "    Atributos de clase: especie.\n",
    "\n",
    "Atributos de instancia: nombre & color.\n",
    "Luego, crear nuevos objetos a partir de las nuevas class. Imprimir el nombre y el color de los animales en una frase.\n",
    "Ejemplo: \"Me llamo {nombre} y soy un ave de color {color}\"."
   ]
  },
  {
   "cell_type": "code",
   "execution_count": null,
   "id": "936f8997",
   "metadata": {},
   "outputs": [
    {
     "name": "stdout",
     "output_type": "stream",
     "text": [
      "Me llamo Firu y soy un perro de color Blanco\n",
      "Me llamo Teo y soy un gato de color Marron\n",
      "Me llamo Hans y soy un loro de color Negro\n",
      "Me llamo Newton y soy un perro de color Marron\n"
     ]
    }
   ],
   "source": [
    "class Animales:\n",
    "    #Atributos de clase\n",
    "    especie1 = 'perro'\n",
    "    especie2 = 'gato'\n",
    "    especie3 = 'loro'\n",
    "\n",
    "    #Atributo de instancia    \n",
    "    def __init__(self, nombre, color, num_especie = 1):\n",
    "        self.nombre = nombre\n",
    "        self.color = color\n",
    "        \n",
    "        if num_especie == 1:\n",
    "            self.especie = self.especie1\n",
    "        elif num_especie == 2:\n",
    "            self.especie = self.especie2\n",
    "        else:\n",
    "            self.especie = self.especie3\n",
    "        \n",
    "        print(f'Me llamo {self.nombre} y soy un {self.especie} de color {self.color}')\n",
    "\n",
    "firu = Animales('Firu', 'Blanco', 1)\n",
    "teo = Animales('Teo', 'Marron', 2)\n",
    "hans = Animales('Hans', 'Negro', 3)\n",
    "newton = Animales('Newton', 'Marron')"
   ]
  },
  {
   "cell_type": "code",
   "execution_count": null,
   "id": "95916f25",
   "metadata": {},
   "outputs": [],
   "source": [
    "#Nombre de clase\n",
    "#Atributos de clase\n",
    "#Atributos de instancia\n",
    "#Metodos (Acciones que queremos que realice el objeto)"
   ]
  },
  {
   "cell_type": "markdown",
   "id": "9420a064",
   "metadata": {},
   "source": [
    "Challenge 🤺\n",
    "Crear dos métodos para nuestro animal y ejecutar, debe ser algo específico de ese animal.\n",
    "\n",
    "    Ejemplo: \"Cuando hablo, digo X\".\n",
    "\n",
    "Ejemplo: \"Cuando me muevo, hago X\"."
   ]
  },
  {
   "cell_type": "code",
   "execution_count": 30,
   "id": "d32a6aaa",
   "metadata": {},
   "outputs": [
    {
     "name": "stdout",
     "output_type": "stream",
     "text": [
      "El perro Teo ladra cuando ve a un gato\n",
      "Se emociona cuando ve a su duenho y Teo empieza a saltar\n"
     ]
    }
   ],
   "source": [
    "class Animal:\n",
    "    #atributo de clase\n",
    "    especie = 'Perro'\n",
    "\n",
    "    #atributo de instancia\n",
    "    def __init__(self, nombre, raza):\n",
    "        self.nombre = nombre\n",
    "        self.raza = raza\n",
    "        self.ladra = 'ladra'\n",
    "        self.salta = 'saltar'\n",
    "    \n",
    "    #metodos o acciones\n",
    "    def ladrar(self):\n",
    "        print(f'El perro {self.nombre} {self.ladra} cuando ve a un gato')\n",
    "\n",
    "    def saltar(self):\n",
    "        print(f'Se emociona cuando ve a su duenho y {self.nombre} empieza a {self.salta}')\n",
    "\n",
    "teo = Animal('Teo','Labrador')\n",
    "\n",
    "    #llamar las funciones de los metodos\n",
    "teo.ladrar()\n",
    "\n",
    "teo.saltar()"
   ]
  },
  {
   "cell_type": "markdown",
   "id": "00d5c010",
   "metadata": {},
   "source": [
    "Challenge 🤺\n",
    "Definir una clase madre que herede a sus clases hijas dos atributos de instancia. Mostrar ambos atributos en pantalla desde los objetos de las clases hijas.\n",
    "\n",
    "Observación: Editar las clases hijas para que no se inicialicen."
   ]
  },
  {
   "cell_type": "code",
   "execution_count": 48,
   "id": "6762fb0f",
   "metadata": {},
   "outputs": [
    {
     "name": "stdout",
     "output_type": "stream",
     "text": [
      "El delfin Flipper nada siempre en grupo\n",
      "La ballena Willy no emite ningun sonido\n"
     ]
    }
   ],
   "source": [
    "#clase madre\n",
    "class Mamifero:\n",
    "    #atributo de clase\n",
    "    especie = 'Mamifero'\n",
    "    habitat_natural = 'Acuatico'\n",
    "\n",
    "    #atributo de instancia\n",
    "    def __init__(self, nombre, edad):\n",
    "        self.nombre = nombre\n",
    "        self.edad = edad\n",
    "\n",
    "    def movimiento(self):\n",
    "        print('El animal tiene un movimiento particular')\n",
    "    \n",
    "    def sonido(self):\n",
    "        print('Emite un sonido muy extranho')\n",
    "\n",
    "#clase hija\n",
    "class Ballena(Mamifero):\n",
    "    #herencia\n",
    "    def sonido(self):\n",
    "        print(f'La ballena {self.nombre} no emite ningun sonido')\n",
    "\n",
    "#clase hija\n",
    "class Delfin(Mamifero):\n",
    "    #herencia\n",
    "    def movimiento(self):\n",
    "        print(f'El delfin {self.nombre} nada siempre en grupo')\n",
    "\n",
    "flipper = Delfin('Flipper', 10)\n",
    "\n",
    "ballena = Ballena('Willy', 50)\n",
    "\n",
    "flipper.movimiento()\n",
    "\n",
    "ballena.sonido()\n",
    "\n"
   ]
  },
  {
   "cell_type": "markdown",
   "id": "3ef03121",
   "metadata": {},
   "source": [
    "Challenge 1 🤺\n",
    "Escribir un programa que cree un diccionario vacío y lo vaya llenado con información sobre una persona (por ejemplo nombre, edad, sexo, teléfono, correo electrónico, etc.) que se le pida al usuario. \n",
    "\n",
    "Cada vez que se añada un nuevo dato debe imprimirse el contenido del diccionario."
   ]
  },
  {
   "cell_type": "code",
   "execution_count": 49,
   "id": "ee48b09a",
   "metadata": {},
   "outputs": [
    {
     "name": "stdout",
     "output_type": "stream",
     "text": [
      "{'nombre': 'matias'}\n",
      "{'nombre': 'matias', 'edad': '28'}\n",
      "{'nombre': 'matias', 'edad': '28', 'sexo': 'asf'}\n",
      "{'nombre': 'matias', 'edad': '28', 'sexo': 'asf', 'telefono': 'sq'}\n",
      "{'nombre': 'matias', 'edad': '28', 'sexo': 'asf', 'telefono': 'sq', 'correo electronico': 'sf'}\n"
     ]
    }
   ],
   "source": [
    "diccionario_vacio = {}\n",
    "\n",
    "diccionario_vacio['nombre'] = input('Cual es tu nombre')\n",
    "print(diccionario_vacio)\n",
    "\n",
    "diccionario_vacio['edad'] = input('Edad')\n",
    "print(diccionario_vacio)\n",
    "\n",
    "diccionario_vacio ['sexo'] = input('Sexo')\n",
    "print(diccionario_vacio)\n",
    "\n",
    "diccionario_vacio ['telefono'] = input('Telefono')\n",
    "print(diccionario_vacio)\n",
    "\n",
    "diccionario_vacio ['correo electronico'] = input('Correo electronico')\n",
    "print(diccionario_vacio)\n"
   ]
  },
  {
   "cell_type": "code",
   "execution_count": 54,
   "id": "134dc107",
   "metadata": {},
   "outputs": [
    {
     "name": "stdout",
     "output_type": "stream",
     "text": [
      "{'nombre': 'matias'}\n",
      "{'nombre': 'matias', 'edad': '29'}\n",
      "{'nombre': 'matias', 'edad': '29', 'sexo': 'masculino'}\n",
      "{'nombre': 'matias', 'edad': '29', 'sexo': 'masculino', 'telefono': '490725'}\n",
      "{'nombre': 'matias', 'edad': '29', 'sexo': 'masculino', 'telefono': '490725', 'correo electronico': 'matiasmariotti@outlook.com'}\n"
     ]
    }
   ],
   "source": [
    "diccionario_vacio = {}\n",
    "campos = ['nombre', 'edad', 'sexo', 'telefono', 'correo electronico']\n",
    "\n",
    "for campo in campos:\n",
    "    diccionario_vacio[campo] = input(f'{campo}: ')\n",
    "    print(diccionario_vacio)"
   ]
  },
  {
   "cell_type": "markdown",
   "id": "9bf0d259",
   "metadata": {},
   "source": [
    "Challenge 2 🤺\n",
    "Crear una tarjeta personal. El usuario (mediante input) puede elegir:\n",
    "\n",
    "    Crear datos nuevos\n",
    "\n",
    "Modificar datosEliminar datos"
   ]
  },
  {
   "cell_type": "code",
   "execution_count": null,
   "id": "81f2a7fd",
   "metadata": {},
   "outputs": [
    {
     "name": "stdout",
     "output_type": "stream",
     "text": [
      "El dato no se encuentra en la tarjeta personal\n",
      "Hasta luego\n"
     ]
    }
   ],
   "source": [
    "tarjeta_personal = {}\n",
    "while True:\n",
    "    accion = input('En su tarjeta personal, desea agregar, modificar, eliminar datos o salir? ')\n",
    "\n",
    "    if accion == 'agregar':\n",
    "        dato_a_agregar = input('Que dato desea agregar?')\n",
    "        tarjeta_personal[dato_a_agregar] = input('Escriba la informacion del dato a agregar: ')\n",
    "        print(\"Datos agregados:\", tarjeta_personal)\n",
    "\n",
    "    elif accion == 'modificar':\n",
    "        dato_a_modificar = input('¿Cual dato desea modificar? ')\n",
    "        \n",
    "        if dato_a_modificar in tarjeta_personal: \n",
    "            tarjeta_personal[dato_a_modificar] = input('Escriba la modificacion: ')\n",
    "            print(\"Dato modificado:\", tarjeta_personal)\n",
    "        \n",
    "        else:\n",
    "            print('El dato no se encuentra en la tarjeta personal')\n",
    "\n",
    "    elif accion == 'eliminar datos':\n",
    "        dato_a_eliminar = input('¿Cual es el dato que desea eliminar? ')\n",
    "        \n",
    "        if dato_a_eliminar in tarjeta_personal:\n",
    "            del tarjeta_personal[dato_a_eliminar]\n",
    "            print(\"Dato eliminado:\", tarjeta_personal)\n",
    "        \n",
    "        else:\n",
    "            print('El dato no se encuentra en la tarjeta personal')\n",
    "    \n",
    "    elif accion == 'salir':\n",
    "        print('Hasta luego')\n",
    "        break\n",
    "\n",
    "    else:\n",
    "        print(\"Accion no reconocida. Utilice: agregar, modificar, eliminar datos o salir\")"
   ]
  },
  {
   "cell_type": "markdown",
   "id": "3fb3ac11",
   "metadata": {},
   "source": [
    "Challenge 3 🤺\n",
    "Crear una agenda de contactos. El usuario puede elegir:\n",
    "\n",
    "    Mostrar los contactos\n",
    "\n",
    "Crear contactoModificar datos del contacto"
   ]
  },
  {
   "cell_type": "code",
   "execution_count": 73,
   "id": "b28571f2",
   "metadata": {},
   "outputs": [
    {
     "name": "stdout",
     "output_type": "stream",
     "text": [
      "{'matias': {1: {'datos': 'mariotti 9817381'}}}\n",
      "{'matias': {1: {'datos': 'mariotti 9817381'}, 2: {'datos': 'mariotti 9817381'}}}\n"
     ]
    },
    {
     "ename": "KeyboardInterrupt",
     "evalue": "Interrupted by user",
     "output_type": "error",
     "traceback": [
      "\u001b[31m---------------------------------------------------------------------------\u001b[39m",
      "\u001b[31mKeyboardInterrupt\u001b[39m                         Traceback (most recent call last)",
      "\u001b[36mCell\u001b[39m\u001b[36m \u001b[39m\u001b[32mIn[73]\u001b[39m\u001b[32m, line 4\u001b[39m\n\u001b[32m      1\u001b[39m agenda_de_contactos = {}\n\u001b[32m      3\u001b[39m \u001b[38;5;28;01mwhile\u001b[39;00m \u001b[38;5;28;01mTrue\u001b[39;00m:\n\u001b[32m----> \u001b[39m\u001b[32m4\u001b[39m     accion = \u001b[38;5;28;43minput\u001b[39;49m\u001b[43m(\u001b[49m\u001b[33;43m'\u001b[39;49m\u001b[33;43mEn su agenda de contactos, desea crear, modificar, mostrar o salir? \u001b[39;49m\u001b[33;43m'\u001b[39;49m\u001b[43m)\u001b[49m\n\u001b[32m      6\u001b[39m     \u001b[38;5;28;01mif\u001b[39;00m accion == \u001b[33m'\u001b[39m\u001b[33mcrear\u001b[39m\u001b[33m'\u001b[39m:\n\u001b[32m      7\u001b[39m         nombre = \u001b[38;5;28minput\u001b[39m(\u001b[33m'\u001b[39m\u001b[33mNombre: \u001b[39m\u001b[33m'\u001b[39m)\n",
      "\u001b[36mFile \u001b[39m\u001b[32m~/Escritorio/Bootcamp/.venv/lib/python3.12/site-packages/ipykernel/kernelbase.py:1260\u001b[39m, in \u001b[36mKernel.raw_input\u001b[39m\u001b[34m(self, prompt)\u001b[39m\n\u001b[32m   1258\u001b[39m     msg = \u001b[33m\"\u001b[39m\u001b[33mraw_input was called, but this frontend does not support input requests.\u001b[39m\u001b[33m\"\u001b[39m\n\u001b[32m   1259\u001b[39m     \u001b[38;5;28;01mraise\u001b[39;00m StdinNotImplementedError(msg)\n\u001b[32m-> \u001b[39m\u001b[32m1260\u001b[39m \u001b[38;5;28;01mreturn\u001b[39;00m \u001b[38;5;28;43mself\u001b[39;49m\u001b[43m.\u001b[49m\u001b[43m_input_request\u001b[49m\u001b[43m(\u001b[49m\n\u001b[32m   1261\u001b[39m \u001b[43m    \u001b[49m\u001b[38;5;28;43mstr\u001b[39;49m\u001b[43m(\u001b[49m\u001b[43mprompt\u001b[49m\u001b[43m)\u001b[49m\u001b[43m,\u001b[49m\n\u001b[32m   1262\u001b[39m \u001b[43m    \u001b[49m\u001b[38;5;28;43mself\u001b[39;49m\u001b[43m.\u001b[49m\u001b[43m_parent_ident\u001b[49m\u001b[43m[\u001b[49m\u001b[33;43m\"\u001b[39;49m\u001b[33;43mshell\u001b[39;49m\u001b[33;43m\"\u001b[39;49m\u001b[43m]\u001b[49m\u001b[43m,\u001b[49m\n\u001b[32m   1263\u001b[39m \u001b[43m    \u001b[49m\u001b[38;5;28;43mself\u001b[39;49m\u001b[43m.\u001b[49m\u001b[43mget_parent\u001b[49m\u001b[43m(\u001b[49m\u001b[33;43m\"\u001b[39;49m\u001b[33;43mshell\u001b[39;49m\u001b[33;43m\"\u001b[39;49m\u001b[43m)\u001b[49m\u001b[43m,\u001b[49m\n\u001b[32m   1264\u001b[39m \u001b[43m    \u001b[49m\u001b[43mpassword\u001b[49m\u001b[43m=\u001b[49m\u001b[38;5;28;43;01mFalse\u001b[39;49;00m\u001b[43m,\u001b[49m\n\u001b[32m   1265\u001b[39m \u001b[43m\u001b[49m\u001b[43m)\u001b[49m\n",
      "\u001b[36mFile \u001b[39m\u001b[32m~/Escritorio/Bootcamp/.venv/lib/python3.12/site-packages/ipykernel/kernelbase.py:1305\u001b[39m, in \u001b[36mKernel._input_request\u001b[39m\u001b[34m(self, prompt, ident, parent, password)\u001b[39m\n\u001b[32m   1302\u001b[39m \u001b[38;5;28;01mexcept\u001b[39;00m \u001b[38;5;167;01mKeyboardInterrupt\u001b[39;00m:\n\u001b[32m   1303\u001b[39m     \u001b[38;5;66;03m# re-raise KeyboardInterrupt, to truncate traceback\u001b[39;00m\n\u001b[32m   1304\u001b[39m     msg = \u001b[33m\"\u001b[39m\u001b[33mInterrupted by user\u001b[39m\u001b[33m\"\u001b[39m\n\u001b[32m-> \u001b[39m\u001b[32m1305\u001b[39m     \u001b[38;5;28;01mraise\u001b[39;00m \u001b[38;5;167;01mKeyboardInterrupt\u001b[39;00m(msg) \u001b[38;5;28;01mfrom\u001b[39;00m\u001b[38;5;250m \u001b[39m\u001b[38;5;28;01mNone\u001b[39;00m\n\u001b[32m   1306\u001b[39m \u001b[38;5;28;01mexcept\u001b[39;00m \u001b[38;5;167;01mException\u001b[39;00m:\n\u001b[32m   1307\u001b[39m     \u001b[38;5;28mself\u001b[39m.log.warning(\u001b[33m\"\u001b[39m\u001b[33mInvalid Message:\u001b[39m\u001b[33m\"\u001b[39m, exc_info=\u001b[38;5;28;01mTrue\u001b[39;00m)\n",
      "\u001b[31mKeyboardInterrupt\u001b[39m: Interrupted by user"
     ]
    }
   ],
   "source": [
    "agenda_de_contactos = {}\n",
    "\n",
    "while True:\n",
    "    accion = input('En su agenda de contactos, desea crear, modificar, mostrar o salir? ')\n",
    "\n",
    "    if accion == 'crear':\n",
    "        nombre = input('Nombre: ')\n",
    "        apellido_telefono = input('Apellido y teléfono: ')\n",
    "    \n",
    "    if nombre not in agenda_de_contactos:\n",
    "        agenda_de_contactos[nombre] = {}\n",
    "    \n",
    "    # Siempre crear un nuevo diccionario interno\n",
    "    numero_contacto = len(agenda_de_contactos[nombre]) + 1\n",
    "    agenda_de_contactos[nombre][numero_contacto] = {\"datos\": apellido_telefono}\n",
    "\n",
    "    print(agenda_de_contactos)"
   ]
  }
 ],
 "metadata": {
  "kernelspec": {
   "display_name": ".venv",
   "language": "python",
   "name": "python3"
  },
  "language_info": {
   "codemirror_mode": {
    "name": "ipython",
    "version": 3
   },
   "file_extension": ".py",
   "mimetype": "text/x-python",
   "name": "python",
   "nbconvert_exporter": "python",
   "pygments_lexer": "ipython3",
   "version": "3.12.3"
  }
 },
 "nbformat": 4,
 "nbformat_minor": 5
}
