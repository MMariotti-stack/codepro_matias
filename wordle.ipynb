{
 "cells": [
  {
   "cell_type": "code",
   "execution_count": null,
   "id": "67e23515",
   "metadata": {},
   "outputs": [],
   "source": []
  },
  {
   "cell_type": "code",
   "execution_count": null,
   "id": "eeb6d091",
   "metadata": {},
   "outputs": [],
   "source": []
  },
  {
   "cell_type": "code",
   "execution_count": 15,
   "id": "d7f30f00",
   "metadata": {},
   "outputs": [
    {
     "name": "stdout",
     "output_type": "stream",
     "text": [
      "Encuentra la palabra del dia. Ingrese 6 digitos\n",
      "La palabra debe contener 6 letras\n",
      "['t', 'i', 'g', '[r]', '(e)', '[s]']\n",
      "Te quedan 6 intentos\n"
     ]
    },
    {
     "ename": "KeyboardInterrupt",
     "evalue": "Interrupted by user",
     "output_type": "error",
     "traceback": [
      "\u001b[31m---------------------------------------------------------------------------\u001b[39m",
      "\u001b[31mKeyboardInterrupt\u001b[39m                         Traceback (most recent call last)",
      "\u001b[36mCell\u001b[39m\u001b[36m \u001b[39m\u001b[32mIn[15]\u001b[39m\u001b[32m, line 44\u001b[39m\n\u001b[32m     38\u001b[39m \u001b[38;5;66;03m# esta funcion se encarga de verificar las vidas y que aun nos queden intentos\u001b[39;00m\n\u001b[32m     40\u001b[39m \u001b[38;5;28;01mwhile\u001b[39;00m vidas > \u001b[32m0\u001b[39m:\n\u001b[32m     41\u001b[39m \n\u001b[32m     42\u001b[39m     \u001b[38;5;66;03m## En esta parte verifica primeramente cuantas vidas tenemos, y tambien nos informa si tenemos toda las letras de la palabra e este caso 6\u001b[39;00m\n\u001b[32m---> \u001b[39m\u001b[32m44\u001b[39m     palabra_ingresada = \u001b[38;5;28;43minput\u001b[39;49m\u001b[43m(\u001b[49m\u001b[33;43m'\u001b[39;49m\u001b[33;43mAdivina la palabra\u001b[39;49m\u001b[33;43m'\u001b[39;49m\u001b[43m)\u001b[49m\n\u001b[32m     45\u001b[39m     \u001b[38;5;28;01mif\u001b[39;00m \u001b[38;5;28mlen\u001b[39m(palabra_ingresada) != \u001b[32m6\u001b[39m:\n\u001b[32m     46\u001b[39m         \u001b[38;5;28mprint\u001b[39m(\u001b[33m'\u001b[39m\u001b[33mLa palabra debe contener 6 letras\u001b[39m\u001b[33m'\u001b[39m) \u001b[38;5;66;03m# aqui nos solicita que la palabra ingresada debe tener las 6 letras nesesarias para seguir probando el juego\u001b[39;00m\n",
      "\u001b[36mFile \u001b[39m\u001b[32m~/Escritorio/Bootcamp/.venv/lib/python3.12/site-packages/ipykernel/kernelbase.py:1260\u001b[39m, in \u001b[36mKernel.raw_input\u001b[39m\u001b[34m(self, prompt)\u001b[39m\n\u001b[32m   1258\u001b[39m     msg = \u001b[33m\"\u001b[39m\u001b[33mraw_input was called, but this frontend does not support input requests.\u001b[39m\u001b[33m\"\u001b[39m\n\u001b[32m   1259\u001b[39m     \u001b[38;5;28;01mraise\u001b[39;00m StdinNotImplementedError(msg)\n\u001b[32m-> \u001b[39m\u001b[32m1260\u001b[39m \u001b[38;5;28;01mreturn\u001b[39;00m \u001b[38;5;28;43mself\u001b[39;49m\u001b[43m.\u001b[49m\u001b[43m_input_request\u001b[49m\u001b[43m(\u001b[49m\n\u001b[32m   1261\u001b[39m \u001b[43m    \u001b[49m\u001b[38;5;28;43mstr\u001b[39;49m\u001b[43m(\u001b[49m\u001b[43mprompt\u001b[49m\u001b[43m)\u001b[49m\u001b[43m,\u001b[49m\n\u001b[32m   1262\u001b[39m \u001b[43m    \u001b[49m\u001b[38;5;28;43mself\u001b[39;49m\u001b[43m.\u001b[49m\u001b[43m_parent_ident\u001b[49m\u001b[43m[\u001b[49m\u001b[33;43m\"\u001b[39;49m\u001b[33;43mshell\u001b[39;49m\u001b[33;43m\"\u001b[39;49m\u001b[43m]\u001b[49m\u001b[43m,\u001b[49m\n\u001b[32m   1263\u001b[39m \u001b[43m    \u001b[49m\u001b[38;5;28;43mself\u001b[39;49m\u001b[43m.\u001b[49m\u001b[43mget_parent\u001b[49m\u001b[43m(\u001b[49m\u001b[33;43m\"\u001b[39;49m\u001b[33;43mshell\u001b[39;49m\u001b[33;43m\"\u001b[39;49m\u001b[43m)\u001b[49m\u001b[43m,\u001b[49m\n\u001b[32m   1264\u001b[39m \u001b[43m    \u001b[49m\u001b[43mpassword\u001b[49m\u001b[43m=\u001b[49m\u001b[38;5;28;43;01mFalse\u001b[39;49;00m\u001b[43m,\u001b[49m\n\u001b[32m   1265\u001b[39m \u001b[43m\u001b[49m\u001b[43m)\u001b[49m\n",
      "\u001b[36mFile \u001b[39m\u001b[32m~/Escritorio/Bootcamp/.venv/lib/python3.12/site-packages/ipykernel/kernelbase.py:1305\u001b[39m, in \u001b[36mKernel._input_request\u001b[39m\u001b[34m(self, prompt, ident, parent, password)\u001b[39m\n\u001b[32m   1302\u001b[39m \u001b[38;5;28;01mexcept\u001b[39;00m \u001b[38;5;167;01mKeyboardInterrupt\u001b[39;00m:\n\u001b[32m   1303\u001b[39m     \u001b[38;5;66;03m# re-raise KeyboardInterrupt, to truncate traceback\u001b[39;00m\n\u001b[32m   1304\u001b[39m     msg = \u001b[33m\"\u001b[39m\u001b[33mInterrupted by user\u001b[39m\u001b[33m\"\u001b[39m\n\u001b[32m-> \u001b[39m\u001b[32m1305\u001b[39m     \u001b[38;5;28;01mraise\u001b[39;00m \u001b[38;5;167;01mKeyboardInterrupt\u001b[39;00m(msg) \u001b[38;5;28;01mfrom\u001b[39;00m\u001b[38;5;250m \u001b[39m\u001b[38;5;28;01mNone\u001b[39;00m\n\u001b[32m   1306\u001b[39m \u001b[38;5;28;01mexcept\u001b[39;00m \u001b[38;5;167;01mException\u001b[39;00m:\n\u001b[32m   1307\u001b[39m     \u001b[38;5;28mself\u001b[39m.log.warning(\u001b[33m\"\u001b[39m\u001b[33mInvalid Message:\u001b[39m\u001b[33m\"\u001b[39m, exc_info=\u001b[38;5;28;01mTrue\u001b[39;00m)\n",
      "\u001b[31mKeyboardInterrupt\u001b[39m: Interrupted by user"
     ]
    }
   ],
   "source": [
    "# Palabra a encontrar\n",
    "\n",
    "palabra_a_encontrar = 'perros'\n",
    "\n",
    "# cantidad de intentos\n",
    "\n",
    "vidas = 6\n",
    "\n",
    "# definimos la funcion que se encarga de verificar las letras de las palabras\n",
    "\n",
    "def obtener_fila_verificada(palabra_a_encontrar, palabra_ingresada):\n",
    "    cantidad_de_letras = 6\n",
    "\n",
    "    letras_verficadas = []\n",
    "\n",
    "    for posicion in range(cantidad_de_letras):\n",
    "            \n",
    "        letras_son_iguales = palabra_a_encontrar[posicion] == palabra_ingresada[posicion]\n",
    "\n",
    "        la_letra_existe_en_la_palabra = palabra_ingresada[posicion] in palabra_a_encontrar\n",
    "\n",
    "        if letras_son_iguales:\n",
    "\n",
    "            letras_verficadas.append(\"[\" + palabra_ingresada[posicion] + \"]\")\n",
    "            \n",
    "        elif la_letra_existe_en_la_palabra:\n",
    "            letras_verficadas.append(f\"({palabra_ingresada[posicion]})\")\n",
    "\n",
    "        else:\n",
    "            letras_verficadas.append(palabra_ingresada[posicion])\n",
    "                \n",
    "    return letras_verficadas\n",
    "\n",
    "lista_vacia = []\n",
    "\n",
    "print('Encuentra la palabra del dia. Ingrese 6 digitos')\n",
    "\n",
    "# esta funcion se encarga de verificar las vidas y que aun nos queden intentos\n",
    "\n",
    "while vidas > 0:\n",
    "\n",
    "    ## En esta parte verifica primeramente cuantas vidas tenemos, y tambien nos informa si tenemos toda las letras de la palabra e este caso 6\n",
    "\n",
    "    palabra_ingresada = input('Adivina la palabra')\n",
    "    if len(palabra_ingresada) != 6:\n",
    "        print('La palabra debe contener 6 letras') # aqui nos solicita que la palabra ingresada debe tener las 6 letras nesesarias para seguir probando el juego\n",
    "        continue\n",
    "    resultado = obtener_fila_verificada(palabra_a_encontrar, palabra_ingresada)\n",
    "    print(resultado)\n",
    "    print(f'Te quedan {vidas} intentos') # aqui nos informa cuantas vidas restantes tenemos \n",
    "    vidas -= 1\n",
    "    if palabra_ingresada == palabra_a_encontrar:\n",
    "        print('Ganaste')\n",
    "        break\n",
    "    elif vidas == 0:\n",
    "        print('Perdiste')\n",
    "    \n"
   ]
  },
  {
   "cell_type": "code",
   "execution_count": null,
   "id": "d53ed426",
   "metadata": {},
   "outputs": [],
   "source": []
  }
 ],
 "metadata": {
  "kernelspec": {
   "display_name": ".venv",
   "language": "python",
   "name": "python3"
  },
  "language_info": {
   "codemirror_mode": {
    "name": "ipython",
    "version": 3
   },
   "file_extension": ".py",
   "mimetype": "text/x-python",
   "name": "python",
   "nbconvert_exporter": "python",
   "pygments_lexer": "ipython3",
   "version": "3.12.3"
  }
 },
 "nbformat": 4,
 "nbformat_minor": 5
}
